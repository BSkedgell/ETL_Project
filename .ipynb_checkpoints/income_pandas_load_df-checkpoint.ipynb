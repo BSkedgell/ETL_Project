{
 "cells": [
  {
   "cell_type": "code",
   "execution_count": 1,
   "metadata": {},
   "outputs": [],
   "source": [
    "import csv\n",
    "import pandas as pd\n",
    "from sqlalchemy import create_engine"
   ]
  },
  {
   "cell_type": "code",
   "execution_count": 2,
   "metadata": {},
   "outputs": [
    {
     "data": {
      "text/html": [
       "<div>\n",
       "<style scoped>\n",
       "    .dataframe tbody tr th:only-of-type {\n",
       "        vertical-align: middle;\n",
       "    }\n",
       "\n",
       "    .dataframe tbody tr th {\n",
       "        vertical-align: top;\n",
       "    }\n",
       "\n",
       "    .dataframe thead th {\n",
       "        text-align: right;\n",
       "    }\n",
       "</style>\n",
       "<table border=\"1\" class=\"dataframe\">\n",
       "  <thead>\n",
       "    <tr style=\"text-align: right;\">\n",
       "      <th></th>\n",
       "      <th>Policy Area</th>\n",
       "      <th>Dataset</th>\n",
       "      <th>Variable</th>\n",
       "      <th>Year</th>\n",
       "      <th>Amount</th>\n",
       "      <th>Tract</th>\n",
       "      <th>Tract Number</th>\n",
       "      <th>Neighborhood</th>\n",
       "      <th>GEOID</th>\n",
       "      <th>Location</th>\n",
       "      <th>Row ID</th>\n",
       "      <th>Date</th>\n",
       "    </tr>\n",
       "  </thead>\n",
       "  <tbody>\n",
       "    <tr>\n",
       "      <th>0</th>\n",
       "      <td>Employment &amp; Income</td>\n",
       "      <td>Income</td>\n",
       "      <td>Median Household Income</td>\n",
       "      <td>2013</td>\n",
       "      <td>74971.0</td>\n",
       "      <td>Census Tract 4321.01, Los Angeles County, Cali...</td>\n",
       "      <td>432101</td>\n",
       "      <td>Temple City</td>\n",
       "      <td>1400000US06037432101</td>\n",
       "      <td>(34.095852, -118.0428825)</td>\n",
       "      <td>Median_Household_Income_2013_1400000US06037432101</td>\n",
       "      <td>01/01/2013</td>\n",
       "    </tr>\n",
       "    <tr>\n",
       "      <th>1</th>\n",
       "      <td>Employment &amp; Income</td>\n",
       "      <td>Income</td>\n",
       "      <td>Median Household Income</td>\n",
       "      <td>2013</td>\n",
       "      <td>30759.0</td>\n",
       "      <td>Census Tract 2422, Los Angeles County, California</td>\n",
       "      <td>242200</td>\n",
       "      <td>Watts</td>\n",
       "      <td>1400000US06037242200</td>\n",
       "      <td>(33.948204, -118.238625)</td>\n",
       "      <td>Median_Household_Income_2013_1400000US06037242200</td>\n",
       "      <td>01/01/2013</td>\n",
       "    </tr>\n",
       "    <tr>\n",
       "      <th>2</th>\n",
       "      <td>Employment &amp; Income</td>\n",
       "      <td>Income</td>\n",
       "      <td>Median Household Income</td>\n",
       "      <td>2011</td>\n",
       "      <td>57219.0</td>\n",
       "      <td>Census Tract 2719.02, Los Angeles County, Cali...</td>\n",
       "      <td>271902</td>\n",
       "      <td>Mar Vista</td>\n",
       "      <td>1400000US06037271902</td>\n",
       "      <td>(34.009731, -118.4316705)</td>\n",
       "      <td>Median_Household_Income_2011_1400000US06037271902</td>\n",
       "      <td>01/01/2011</td>\n",
       "    </tr>\n",
       "    <tr>\n",
       "      <th>3</th>\n",
       "      <td>Employment &amp; Income</td>\n",
       "      <td>Income</td>\n",
       "      <td>Median Household Income</td>\n",
       "      <td>2013</td>\n",
       "      <td>81700.0</td>\n",
       "      <td>Census Tract 4313, Los Angeles County, California</td>\n",
       "      <td>431300</td>\n",
       "      <td>Mayflower Village</td>\n",
       "      <td>1400000US06037431300</td>\n",
       "      <td>(34.1248395, -118.007363)</td>\n",
       "      <td>Median_Household_Income_2013_1400000US06037431300</td>\n",
       "      <td>01/01/2013</td>\n",
       "    </tr>\n",
       "    <tr>\n",
       "      <th>4</th>\n",
       "      <td>Employment &amp; Income</td>\n",
       "      <td>Income</td>\n",
       "      <td>Median Household Income</td>\n",
       "      <td>2011</td>\n",
       "      <td>101783.0</td>\n",
       "      <td>Census Tract 4805, Los Angeles County, California</td>\n",
       "      <td>480500</td>\n",
       "      <td>South Pasadena</td>\n",
       "      <td>1400000US06037480500</td>\n",
       "      <td>(34.1074225, -118.14498)</td>\n",
       "      <td>Median_Household_Income_2011_1400000US06037480500</td>\n",
       "      <td>01/01/2011</td>\n",
       "    </tr>\n",
       "  </tbody>\n",
       "</table>\n",
       "</div>"
      ],
      "text/plain": [
       "           Policy Area Dataset                 Variable  Year    Amount  \\\n",
       "0  Employment & Income  Income  Median Household Income  2013   74971.0   \n",
       "1  Employment & Income  Income  Median Household Income  2013   30759.0   \n",
       "2  Employment & Income  Income  Median Household Income  2011   57219.0   \n",
       "3  Employment & Income  Income  Median Household Income  2013   81700.0   \n",
       "4  Employment & Income  Income  Median Household Income  2011  101783.0   \n",
       "\n",
       "                                               Tract  Tract Number  \\\n",
       "0  Census Tract 4321.01, Los Angeles County, Cali...        432101   \n",
       "1  Census Tract 2422, Los Angeles County, California        242200   \n",
       "2  Census Tract 2719.02, Los Angeles County, Cali...        271902   \n",
       "3  Census Tract 4313, Los Angeles County, California        431300   \n",
       "4  Census Tract 4805, Los Angeles County, California        480500   \n",
       "\n",
       "        Neighborhood                 GEOID                   Location  \\\n",
       "0        Temple City  1400000US06037432101  (34.095852, -118.0428825)   \n",
       "1              Watts  1400000US06037242200   (33.948204, -118.238625)   \n",
       "2          Mar Vista  1400000US06037271902  (34.009731, -118.4316705)   \n",
       "3  Mayflower Village  1400000US06037431300  (34.1248395, -118.007363)   \n",
       "4     South Pasadena  1400000US06037480500   (34.1074225, -118.14498)   \n",
       "\n",
       "                                              Row ID        Date  \n",
       "0  Median_Household_Income_2013_1400000US06037432101  01/01/2013  \n",
       "1  Median_Household_Income_2013_1400000US06037242200  01/01/2013  \n",
       "2  Median_Household_Income_2011_1400000US06037271902  01/01/2011  \n",
       "3  Median_Household_Income_2013_1400000US06037431300  01/01/2013  \n",
       "4  Median_Household_Income_2011_1400000US06037480500  01/01/2011  "
      ]
     },
     "execution_count": 2,
     "metadata": {},
     "output_type": "execute_result"
    }
   ],
   "source": [
    "income1 = pd.read_csv('https://usc.data.socrata.com/api/views/kygc-fzgm/rows.csv?accessType=DOWNLOAD')\n",
    "income1.head()"
   ]
  },
  {
   "cell_type": "markdown",
   "metadata": {},
   "source": [
    "### Extract CSVs into DataFrames"
   ]
  },
  {
   "cell_type": "code",
   "execution_count": 3,
   "metadata": {},
   "outputs": [
    {
     "data": {
      "text/html": [
       "<div>\n",
       "<style scoped>\n",
       "    .dataframe tbody tr th:only-of-type {\n",
       "        vertical-align: middle;\n",
       "    }\n",
       "\n",
       "    .dataframe tbody tr th {\n",
       "        vertical-align: top;\n",
       "    }\n",
       "\n",
       "    .dataframe thead th {\n",
       "        text-align: right;\n",
       "    }\n",
       "</style>\n",
       "<table border=\"1\" class=\"dataframe\">\n",
       "  <thead>\n",
       "    <tr style=\"text-align: right;\">\n",
       "      <th></th>\n",
       "      <th>Variable</th>\n",
       "      <th>Year</th>\n",
       "      <th>Amount</th>\n",
       "      <th>Tract Number</th>\n",
       "      <th>Neighborhood</th>\n",
       "    </tr>\n",
       "  </thead>\n",
       "  <tbody>\n",
       "    <tr>\n",
       "      <th>0</th>\n",
       "      <td>Median Household Income</td>\n",
       "      <td>2013</td>\n",
       "      <td>74971.0</td>\n",
       "      <td>432101</td>\n",
       "      <td>Temple City</td>\n",
       "    </tr>\n",
       "    <tr>\n",
       "      <th>1</th>\n",
       "      <td>Median Household Income</td>\n",
       "      <td>2013</td>\n",
       "      <td>30759.0</td>\n",
       "      <td>242200</td>\n",
       "      <td>Watts</td>\n",
       "    </tr>\n",
       "    <tr>\n",
       "      <th>2</th>\n",
       "      <td>Median Household Income</td>\n",
       "      <td>2011</td>\n",
       "      <td>57219.0</td>\n",
       "      <td>271902</td>\n",
       "      <td>Mar Vista</td>\n",
       "    </tr>\n",
       "    <tr>\n",
       "      <th>3</th>\n",
       "      <td>Median Household Income</td>\n",
       "      <td>2013</td>\n",
       "      <td>81700.0</td>\n",
       "      <td>431300</td>\n",
       "      <td>Mayflower Village</td>\n",
       "    </tr>\n",
       "    <tr>\n",
       "      <th>4</th>\n",
       "      <td>Median Household Income</td>\n",
       "      <td>2011</td>\n",
       "      <td>101783.0</td>\n",
       "      <td>480500</td>\n",
       "      <td>South Pasadena</td>\n",
       "    </tr>\n",
       "  </tbody>\n",
       "</table>\n",
       "</div>"
      ],
      "text/plain": [
       "                  Variable  Year    Amount  Tract Number       Neighborhood\n",
       "0  Median Household Income  2013   74971.0        432101        Temple City\n",
       "1  Median Household Income  2013   30759.0        242200              Watts\n",
       "2  Median Household Income  2011   57219.0        271902          Mar Vista\n",
       "3  Median Household Income  2013   81700.0        431300  Mayflower Village\n",
       "4  Median Household Income  2011  101783.0        480500     South Pasadena"
      ]
     },
     "execution_count": 3,
     "metadata": {},
     "output_type": "execute_result"
    }
   ],
   "source": [
    "income = income1[[\"Variable\", \"Year\", \"Amount\", \"Tract Number\", \"Neighborhood\"]].copy()\n",
    "income.head()"
   ]
  },
  {
   "cell_type": "code",
   "execution_count": null,
   "metadata": {},
   "outputs": [],
   "source": []
  },
  {
   "cell_type": "markdown",
   "metadata": {},
   "source": [
    "### Transform premise DataFrame"
   ]
  },
  {
   "cell_type": "markdown",
   "metadata": {},
   "source": [
    "### Transform county DataFrame"
   ]
  },
  {
   "cell_type": "markdown",
   "metadata": {},
   "source": [
    "### Create database connection"
   ]
  },
  {
   "cell_type": "code",
   "execution_count": null,
   "metadata": {},
   "outputs": [],
   "source": [
    "connection_string = \"root:root@localhost/customer_db\"\n",
    "engine = create_engine(f'mysql+pymysql://{connection_string}')"
   ]
  },
  {
   "cell_type": "code",
   "execution_count": null,
   "metadata": {},
   "outputs": [],
   "source": [
    "# Confirm tables that are created in the database \n",
    "engine.table_names()"
   ]
  },
  {
   "cell_type": "markdown",
   "metadata": {},
   "source": [
    "### Load DataFrames into database"
   ]
  },
  {
   "cell_type": "code",
   "execution_count": null,
   "metadata": {},
   "outputs": [],
   "source": [
    "#Use pandas to load csv converted DataFrame into database\n",
    "new_income_data_df.to_sql(name='median_household_income', con=engine, if_exists='append', index=False)\n",
    "\n"
   ]
  },
  {
   "cell_type": "code",
   "execution_count": null,
   "metadata": {},
   "outputs": [],
   "source": [
    "#Confirm data has been added by querying the median_household_income table\n",
    "pd.read_sql_query('select * from median_household_income', con=engine).head()\n",
    "\n"
   ]
  }
 ],
 "metadata": {
  "kernelspec": {
   "display_name": "Python 3",
   "language": "python",
   "name": "python3"
  },
  "language_info": {
   "codemirror_mode": {
    "name": "ipython",
    "version": 3
   },
   "file_extension": ".py",
   "mimetype": "text/x-python",
   "name": "python",
   "nbconvert_exporter": "python",
   "pygments_lexer": "ipython3",
   "version": "3.7.2"
  }
 },
 "nbformat": 4,
 "nbformat_minor": 2
}
