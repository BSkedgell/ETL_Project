{
 "cells": [
  {
   "cell_type": "code",
   "execution_count": null,
   "metadata": {},
   "outputs": [],
   "source": [
    "import pandas as pd\n",
    "from sqlalchemy import create_engine"
   ]
  },
  {
   "cell_type": "code",
   "execution_count": null,
   "metadata": {},
   "outputs": [],
   "source": [
    "data = pd.read_csv('https://usc.data.socrata.com/api/views/kygc-fzgm/rows.csv?accessType=DOWNLOAD')\n",
    "data.head()"
   ]
  },
  {
   "cell_type": "markdown",
   "metadata": {},
   "source": [
    "### Extract CSVs into DataFrames"
   ]
  },
  {
   "cell_type": "code",
   "execution_count": null,
   "metadata": {},
   "outputs": [],
   "source": [
    "income_file = \"Resources/Income__LA_.csv\"\n",
    "income_data_df = pd.read_csv(income_file)\n",
    "income_data_df[\"Variable\"].unique()"
   ]
  },
  {
   "cell_type": "code",
   "execution_count": null,
   "metadata": {},
   "outputs": [],
   "source": []
  },
  {
   "cell_type": "markdown",
   "metadata": {},
   "source": [
    "### Transform premise DataFrame"
   ]
  },
  {
   "cell_type": "code",
   "execution_count": null,
   "metadata": {},
   "outputs": [],
   "source": [
    "#Copy \n",
    "new_income_data_df = income_data_df[['Year', 'Amount', 'County ID Code']].copy()\n",
    "new_income_data_df.head()\n",
    "#\n",
    "new_premise_data_df = new_premise_data_df.rename(columns=\n",
    "{\"License Serial Number\":\"id\", \"Premises Name\":\"premise_name\", \"County ID Code\":\"county_id\"})\n",
    "new_premise_data_df\n",
    "#\n",
    "new_premise_data_df.drop_duplicates(\"id\", inplace=True)\n",
    "new_premise_data_df.set_index(\"id\", inplace=True)\n",
    "new_premise_data_df.head()\n"
   ]
  },
  {
   "cell_type": "markdown",
   "metadata": {},
   "source": [
    "### Transform county DataFrame"
   ]
  },
  {
   "cell_type": "code",
   "execution_count": null,
   "metadata": {},
   "outputs": [],
   "source": [
    "#\n",
    "new_county_data_df = county_data_df[['ID', 'County Name (Licensee)', 'License Count', 'County ID Code']].copy()\n",
    "new_county_data_df.head()\n",
    "\n",
    "new_county_data_df = new_county_data_df.rename(columns=\n",
    "{\"ID\":\"id\", \"County Name (Licensee)\":\"county_name\", \"License Count\":\"license_count\", \"County ID Code\":\"county_id\"})\n",
    "new_county_data_df\n",
    "\n",
    "new_county_data_df.drop_duplicates(\"id\", inplace=True)\n",
    "new_county_data_df.set_index(\"id\", inplace=True)\n",
    "new_county_data_df.head()\n",
    "\n"
   ]
  },
  {
   "cell_type": "markdown",
   "metadata": {},
   "source": [
    "### Create database connection"
   ]
  },
  {
   "cell_type": "code",
   "execution_count": null,
   "metadata": {},
   "outputs": [],
   "source": [
    "connection_string = \"root:root@localhost/customer_db\"\n",
    "engine = create_engine(f'mysql+pymysql://{connection_string}')"
   ]
  },
  {
   "cell_type": "code",
   "execution_count": null,
   "metadata": {},
   "outputs": [],
   "source": [
    "# Confirm tables that are created in the database \n",
    "engine.table_names()"
   ]
  },
  {
   "cell_type": "markdown",
   "metadata": {},
   "source": [
    "### Load DataFrames into database"
   ]
  },
  {
   "cell_type": "code",
   "execution_count": null,
   "metadata": {},
   "outputs": [],
   "source": [
    "#Use pandas to load csv converted DataFrame into database\n",
    "new_income_data_df.to_sql(name='median_household_income', con=engine, if_exists='append', index=False)\n",
    "\n"
   ]
  },
  {
   "cell_type": "code",
   "execution_count": null,
   "metadata": {},
   "outputs": [],
   "source": [
    "#Confirm data has been added by querying the median_household_income table\n",
    "pd.read_sql_query('select * from median_household_income', con=engine).head()\n",
    "\n"
   ]
  }
 ],
 "metadata": {
  "kernelspec": {
   "display_name": "Python 3",
   "language": "python",
   "name": "python3"
  },
  "language_info": {
   "codemirror_mode": {
    "name": "ipython",
    "version": 3
   },
   "file_extension": ".py",
   "mimetype": "text/x-python",
   "name": "python",
   "nbconvert_exporter": "python",
   "pygments_lexer": "ipython3",
   "version": "3.7.2"
  }
 },
 "nbformat": 4,
 "nbformat_minor": 2
}
